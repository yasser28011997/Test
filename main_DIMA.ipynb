{
  "nbformat": 4,
  "nbformat_minor": 0,
  "metadata": {
    "colab": {
      "name": "Untitled3.ipynb",
      "provenance": [],
      "collapsed_sections": [],
      "authorship_tag": "ABX9TyPDtaiIzhpiPkv9OzCrOnWa",
      "include_colab_link": true
    },
    "kernelspec": {
      "name": "python3",
      "display_name": "Python 3"
    },
    "language_info": {
      "name": "python"
    }
  },
  "cells": [
    {
      "cell_type": "markdown",
      "metadata": {
        "id": "view-in-github",
        "colab_type": "text"
      },
      "source": [
        "<a href=\"https://colab.research.google.com/github/yasser28011997/Test/blob/main/main_DIMA.ipynb\" target=\"_parent\"><img src=\"https://colab.research.google.com/assets/colab-badge.svg\" alt=\"Open In Colab\"/></a>"
      ]
    },
    {
      "cell_type": "code",
      "metadata": {
        "id": "FN3uj4ADH4NO"
      },
      "source": [
        "import os, sys\n",
        "import struct\n",
        "import numpy as np\n",
        "import pathlib\n",
        "import matplotlib.pyplot as plt\n",
        "import functools\n",
        "import pandas as pd\n",
        "from sklearn.metrics import accuracy_score, precision_score, recall_score, f1_score, jaccard_score\n",
        "import copy\n",
        "import itertools"
      ],
      "execution_count": 183,
      "outputs": []
    },
    {
      "cell_type": "code",
      "metadata": {
        "colab": {
          "base_uri": "https://localhost:8080/"
        },
        "id": "xLCYgKnHH9s6",
        "outputId": "54567a1c-5eb5-4ca6-c448-27e838833524"
      },
      "source": [
        "!pip install pymicro"
      ],
      "execution_count": null,
      "outputs": [
        {
          "output_type": "stream",
          "text": [
            "Requirement already satisfied: pymicro in /usr/local/lib/python3.7/dist-packages (0.5.1)\n"
          ],
          "name": "stdout"
        }
      ]
    },
    {
      "cell_type": "code",
      "metadata": {
        "id": "8qnGR7PgH-8g"
      },
      "source": [
        "from pymicro.file.file_utils import HST_info, HST_read, HST_write"
      ],
      "execution_count": null,
      "outputs": []
    },
    {
      "cell_type": "code",
      "metadata": {
        "id": "CQL2eBL6IDJo"
      },
      "source": [
        "data = HST_read(\"data_reduced.raw\", dims=(256, 256, 256))\n",
        "labels = HST_read(\"labels.reduced.raw\", dims=(256,256,256))\n",
        "pred = HST_read(\"prediction.reduced.raw\", dims=(256,256,256))"
      ],
      "execution_count": null,
      "outputs": []
    },
    {
      "cell_type": "code",
      "metadata": {
        "id": "KH4BgIthIE6G"
      },
      "source": [
        "def plot_coupes_xy(data,a,b,c,d,v,V):\n",
        "  cost=np.array([[a,b]\n",
        "               ,[c,d]])\n",
        "  if not (-1<a<256 and -1<b<256 and -1<c<256 and -1<d<256):\n",
        "    print(\"ERROR! the paramaters should be between 0 and 255 included\")\n",
        "  else:\n",
        "    fig, axs=plt.subplots(2,2,figsize=(10,10))\n",
        "    for i,j in itertools.product(range(2),range(2)):\n",
        "      axs[i,j].axis(False)\n",
        "      axs[i,j].imshow(data[:,:,cost[i,j]], cmap='gray', vmin=v, vmax=V)\n",
        "  "
      ],
      "execution_count": null,
      "outputs": []
    },
    {
      "cell_type": "code",
      "metadata": {
        "id": "oqBmCnIm3s8a"
      },
      "source": [
        "def plot_coupes_xz(data,a,b,c,d,v,V):\n",
        "  cost=np.array([[a,b]\n",
        "               ,[c,d]])\n",
        "  if not (-1<a<256 and -1<b<256 and -1<c<256 and -1<d<256):\n",
        "    print(\"ERROR! the paramaters should be between 0 and 255 included\")\n",
        "  else:\n",
        "    fig, axs=plt.subplots(2,2,figsize=(10,10))\n",
        "    for i,j in itertools.product(range(2),range(2)):\n",
        "      axs[i,j].axis(False)\n",
        "      axs[i,j].imshow(data[:,cost[i,j],:], cmap='gray', vmin=v, vmax=V)\n",
        "  "
      ],
      "execution_count": null,
      "outputs": []
    },
    {
      "cell_type": "code",
      "metadata": {
        "id": "OC6p2Syn3tnj"
      },
      "source": [
        "def plot_coupes_yz(data,a,b,c,d,v,V):\n",
        "  cost=np.array([[a,b]\n",
        "               ,[c,d]])\n",
        "  if not (-1<a<256 and -1<b<256 and -1<c<256 and -1<d<256):\n",
        "    print(\"ERROR! the paramaters should be between 0 and 255 included\")\n",
        "  else:\n",
        "    fig, axs=plt.subplots(2,2,figsize=(10,10))\n",
        "    for i,j in itertools.product(range(2),range(2)):\n",
        "      axs[i,j].axis(False)\n",
        "      axs[i,j].imshow(data[cost[i,j],:,:], cmap='gray', vmin=v, vmax=V)\n",
        "  "
      ],
      "execution_count": null,
      "outputs": []
    },
    {
      "cell_type": "code",
      "metadata": {
        "colab": {
          "base_uri": "https://localhost:8080/",
          "height": 602
        },
        "id": "caaEyCiQ1vHm",
        "outputId": "c5f007f8-f4db-458c-cccf-1a5fbd92a387"
      },
      "source": [
        "fig, axs=plt.subplots(2,2,figsize=(10,10))\n",
        "axs[0,0].hist(data.ravel(),bins=256);\n",
        "axs[0,1].hist(labels.ravel(),bins=3);\n",
        "axs[1,0].hist(pred.ravel(),bins=3);"
      ],
      "execution_count": null,
      "outputs": [
        {
          "output_type": "display_data",
          "data": {
            "image/png": "[encoded data removed]",
            "text/plain": [
              "<Figure size 720x720 with 4 Axes>"
            ]
          },
          "metadata": {
            "tags": [],
            "needs_background": "light"
          }
        }
      ]
    },
    {
      "cell_type": "code",
      "metadata": {
        "colab": {
          "base_uri": "https://localhost:8080/"
        },
        "id": "KmEuStl85JHz",
        "outputId": "9aa57e18-96d2-4151-8186-acf7bd4121fa"
      },
      "source": [
        "print(accuracy_score(labels.ravel(), pred.ravel()))\n",
        "print(precision_score(labels.ravel(), pred.ravel(),average='weighted'))\n",
        "print(recall_score(labels.ravel(), pred.ravel(),average='macro'))\n",
        "print(f1_score(labels.ravel(), pred.ravel(), average='weighted'))\n",
        "print(jaccard_score(labels.ravel(), pred.ravel(), average='weighted'))"
      ],
      "execution_count": null,
      "outputs": [
        {
          "output_type": "stream",
          "text": [
            "0.988175630569458\n",
            "0.9880890560576844\n",
            "0.9278310606472088\n",
            "0.9881160291088708\n",
            "0.9768972746025508\n"
          ],
          "name": "stdout"
        }
      ]
    },
    {
      "cell_type": "code",
      "metadata": {
        "id": "Ik_5zIEs6qdA"
      },
      "source": [
        " metric_measure=[]\n",
        "for i in range(255):\n",
        "  indic_arr = data==i\n",
        "  l=labels[indic_arr]\n",
        "  p=pred[indic_arr]\n",
        "  metric_measure.append(accuracy_score(l,p))"
      ],
      "execution_count": 200,
      "outputs": []
    },
    {
      "cell_type": "code",
      "metadata": {
        "colab": {
          "base_uri": "https://localhost:8080/",
          "height": 282
        },
        "id": "kd5k6YEcEpxe",
        "outputId": "1e4d6630-bf02-472c-b534-de14e13b0038"
      },
      "source": [
        "plt.plot(metric_measure)"
      ],
      "execution_count": 198,
      "outputs": [
        {
          "output_type": "execute_result",
          "data": {
            "text/plain": [
              "[<matplotlib.lines.Line2D at 0x7f75312709d0>]"
            ]
          },
          "metadata": {
            "tags": []
          },
          "execution_count": 198
        },
        {
          "output_type": "display_data",
          "data": {
            "image/png": "[encoded data removed]",
            "text/plain": [
              "<Figure size 432x288 with 1 Axes>"
            ]
          },
          "metadata": {
            "tags": [],
            "needs_background": "light"
          }
        }
      ]
    },
    {
      "cell_type": "code",
      "metadata": {
        "id": "GqcPrBBKHnBu",
        "colab": {
          "base_uri": "https://localhost:8080/"
        },
        "outputId": "5fe1cb03-2f80-42a4-a3d7-67f71a3160c9"
      },
      "source": [
        ""
      ],
      "execution_count": 176,
      "outputs": [
        {
          "output_type": "stream",
          "text": [
            "/content/DIMA\n"
          ],
          "name": "stdout"
        }
      ]
    },
    {
      "cell_type": "code",
      "metadata": {
        "colab": {
          "base_uri": "https://localhost:8080/"
        },
        "id": "xBcsyzB-T7SI",
        "outputId": "e0cbe6c7-b29b-4248-f6c6-024f7058e327"
      },
      "source": [
        "metric_measure"
      ],
      "execution_count": 196,
      "outputs": [
        {
          "output_type": "execute_result",
          "data": {
            "text/plain": [
              "[0.9842265473664791,\n",
              " 0.9836531627576404,\n",
              " 0.9754730203223546,\n",
              " 0.9839326702371843,\n",
              " 0.9738255033557047,\n",
              " 0.9752442996742671,\n",
              " 0.9791006966434452,\n",
              " 0.9780755176613886,\n",
              " 0.97000599880024,\n",
              " 0.9642651296829972,\n",
              " 0.9606986899563319,\n",
              " 0.9667532467532467,\n",
              " 0.9343534057255676,\n",
              " 0.9434482758620689,\n",
              " 0.9358288770053476,\n",
              " 0.927710843373494,\n",
              " 0.926258291065158,\n",
              " 0.910935738444194,\n",
              " 0.9018567639257294,\n",
              " 0.8902637577336373,\n",
              " 0.8798283261802575,\n",
              " 0.8781725888324873,\n",
              " 0.881310022162029,\n",
              " 0.8597727272727272,\n",
              " 0.8618204283360791,\n",
              " 0.8653919694072658,\n",
              " 0.8701100762066045,\n",
              " 0.861811391223156,\n",
              " 0.8708696253283561,\n",
              " 0.8732072598045437,\n",
              " 0.8770962296004502,\n",
              " 0.8879676650430096,\n",
              " 0.8887473846993541,\n",
              " 0.8970138142112665,\n",
              " 0.905605813436156,\n",
              " 0.913429888084266,\n",
              " 0.9181517762303788,\n",
              " 0.9251201351850874,\n",
              " 0.9345175731022002,\n",
              " 0.9427406337609379,\n",
              " 0.9487487337260346,\n",
              " 0.9546959817008638,\n",
              " 0.9598099325567137,\n",
              " 0.9656509392747925,\n",
              " 0.9702474857030171,\n",
              " 0.9729687914419591,\n",
              " 0.9774899171517692,\n",
              " 0.9797298506127561,\n",
              " 0.9828909032049207,\n",
              " 0.9856360849573024,\n",
              " 0.9877626078213473,\n",
              " 0.9897434668519872,\n",
              " 0.9916331193558916,\n",
              " 0.9925013390465989,\n",
              " 0.9939674965110521,\n",
              " 0.995009955507485,\n",
              " 0.9957394368843036,\n",
              " 0.9962967034477073,\n",
              " 0.9970896391152503,\n",
              " 0.9979400628514914,\n",
              " 0.998159944148893,\n",
              " 0.9984757621189405,\n",
              " 0.9987092926271254,\n",
              " 0.998780477181857,\n",
              " 0.9991509718922714,\n",
              " 0.9992970973577775,\n",
              " 0.9994137359495668,\n",
              " 0.999490559867821,\n",
              " 0.9996540549008345,\n",
              " 0.9997250610020901,\n",
              " 0.9996862536880275,\n",
              " 0.9997925020165297,\n",
              " 0.9997675071378144,\n",
              " 0.9998528072163345,\n",
              " 0.9998500937595395,\n",
              " 0.9998728943048536,\n",
              " 0.9998851102941176,\n",
              " 0.9999090001525586,\n",
              " 0.9999461892577616,\n",
              " 0.9999429333869578,\n",
              " 0.9999503154965966,\n",
              " 0.9999407250177119,\n",
              " 0.999962116465641,\n",
              " 0.9999516337221781,\n",
              " 0.9999341507008247,\n",
              " 0.9999505002771985,\n",
              " 0.999920336112333,\n",
              " 0.9999375865069371,\n",
              " 0.9999570329284012,\n",
              " 0.9998907627282428,\n",
              " 0.9999003988573033,\n",
              " 0.9998873559502995,\n",
              " 0.9998779277438393,\n",
              " 0.9998263135041251,\n",
              " 0.9998089573529131,\n",
              " 0.9995950371099613,\n",
              " 0.9995664997174507,\n",
              " 0.999304965634412,\n",
              " 0.9991013659237958,\n",
              " 0.9986697213805336,\n",
              " 0.9982401547731431,\n",
              " 0.997544902442176,\n",
              " 0.9969268769027515,\n",
              " 0.9957675480311965,\n",
              " 0.9945813577866931,\n",
              " 0.9928270610180574,\n",
              " 0.990654009765093,\n",
              " 0.9869299093377514,\n",
              " 0.9852561290637033,\n",
              " 0.9791893398455127,\n",
              " 0.9724015770527399,\n",
              " 0.9661719641891486,\n",
              " 0.9599051312457934,\n",
              " 0.9512823118880646,\n",
              " 0.9391027905333804,\n",
              " 0.9293904423731322,\n",
              " 0.907939897795744,\n",
              " 0.8994891291434003,\n",
              " 0.8818878481936504,\n",
              " 0.8678251493032515,\n",
              " 0.8466229091679017,\n",
              " 0.8291441989911289,\n",
              " 0.8077518009457727,\n",
              " 0.7900149503918815,\n",
              " 0.7707204076905259,\n",
              " 0.755685510071475,\n",
              " 0.7298609788611693,\n",
              " 0.7211097001074533,\n",
              " 0.7129293222884271,\n",
              " 0.6996192149970709,\n",
              " 0.6956890529887236,\n",
              " 0.6889706979752251,\n",
              " 0.696020278833967,\n",
              " 0.6930488998814861,\n",
              " 0.7155939964385652,\n",
              " 0.7182654537936738,\n",
              " 0.7312437126065547,\n",
              " 0.7560274044244548,\n",
              " 0.7735939242657602,\n",
              " 0.788056206088993,\n",
              " 0.8120093358794823,\n",
              " 0.8344890121612972,\n",
              " 0.853782238048991,\n",
              " 0.8679862675678576,\n",
              " 0.8794221050318611,\n",
              " 0.9009520718381477,\n",
              " 0.9160908193484699,\n",
              " 0.9280298868256236,\n",
              " 0.9373150990789841,\n",
              " 0.9484904291534125,\n",
              " 0.9505457785698374,\n",
              " 0.9578028576193918,\n",
              " 0.9631467439785906,\n",
              " 0.9713215563506261,\n",
              " 0.9755056802438349,\n",
              " 0.977441525329786,\n",
              " 0.980243076752317,\n",
              " 0.983154755329725,\n",
              " 0.9843364024253313,\n",
              " 0.9872812201024256,\n",
              " 0.9889426015447019,\n",
              " 0.9915041082108322,\n",
              " 0.9927295271374627,\n",
              " 0.9931042215619218,\n",
              " 0.993218283067762,\n",
              " 0.9941579035219495,\n",
              " 0.9949732088604099,\n",
              " 0.9964126535492989,\n",
              " 0.9962650211107502,\n",
              " 0.9973826271879601,\n",
              " 0.9975127068238347,\n",
              " 0.9974035808946827,\n",
              " 0.9974489795918368,\n",
              " 0.9976428992339422,\n",
              " 0.9974683544303797,\n",
              " 0.9985163990886452,\n",
              " 0.9990688049663735,\n",
              " 0.9983461677606078,\n",
              " 0.9989507921519253,\n",
              " 0.9991125495928169,\n",
              " 0.9991238468278101,\n",
              " 0.9993935718617344,\n",
              " 0.999400539514437,\n",
              " 0.9995559064442909,\n",
              " 0.9995122427080285,\n",
              " 0.9996122340167709,\n",
              " 0.9997104526590097,\n",
              " 0.9997197178493016,\n",
              " 0.999718415618547,\n",
              " 0.9998180825905039,\n",
              " 0.9997292785272752,\n",
              " 0.9997755431854911,\n",
              " 0.9998243996663594,\n",
              " 0.99991535108139,\n",
              " 0.9999165066377222,\n",
              " 0.9999175529722154,\n",
              " 0.9999592601645889,\n",
              " 0.9998433338555538,\n",
              " 0.9999607566125108,\n",
              " 0.9998478103717232,\n",
              " 0.9999262128758531,\n",
              " 0.999927635863666,\n",
              " 1.0,\n",
              " 0.9999653931339978,\n",
              " 1.0,\n",
              " 1.0,\n",
              " 1.0,\n",
              " 1.0,\n",
              " 1.0,\n",
              " 1.0,\n",
              " 1.0,\n",
              " 1.0,\n",
              " 1.0,\n",
              " 1.0,\n",
              " 1.0,\n",
              " 1.0,\n",
              " 1.0,\n",
              " 1.0,\n",
              " 1.0,\n",
              " 1.0,\n",
              " 1.0,\n",
              " 1.0,\n",
              " 1.0,\n",
              " 1.0,\n",
              " 1.0,\n",
              " 1.0,\n",
              " 1.0,\n",
              " 1.0,\n",
              " 1.0,\n",
              " 1.0,\n",
              " 1.0,\n",
              " 1.0,\n",
              " 1.0,\n",
              " 1.0,\n",
              " 1.0,\n",
              " 1.0,\n",
              " 1.0,\n",
              " 1.0,\n",
              " 1.0,\n",
              " 1.0,\n",
              " 1.0,\n",
              " 1.0,\n",
              " 1.0,\n",
              " 1.0,\n",
              " 1.0,\n",
              " 1.0,\n",
              " 1.0,\n",
              " 1.0,\n",
              " 1.0,\n",
              " 1.0,\n",
              " 1.0,\n",
              " 1.0,\n",
              " 1.0,\n",
              " 1.0,\n",
              " 1.0]"
            ]
          },
          "metadata": {
            "tags": []
          },
          "execution_count": 196
        }
      ]
    },
    {
      "cell_type": "code",
      "metadata": {
        "id": "OhUuaxoHX6J0"
      },
      "source": [
        ""
      ],
      "execution_count": null,
      "outputs": []
    }
  ]
}